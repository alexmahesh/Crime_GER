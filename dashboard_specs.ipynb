{
 "cells": [
  {
   "cell_type": "markdown",
   "metadata": {},
   "source": [
    "# Dashboard\n",
    "### Specs for the Dashboard: __Juvenile Crime in Germany__"
   ]
  },
  {
   "cell_type": "markdown",
   "metadata": {},
   "source": [
    "## Overview  \n",
    "The Dashboard should give an overview about statistics of the last 5 years concerning juvenile delinquency rates of selected crimes in Germany."
   ]
  },
  {
   "cell_type": "markdown",
   "metadata": {},
   "source": [
    "## Group  \n",
    "The group of __delinquents__ shall be analyzed.  \n",
    "If time is left, later the group of victims can also be analyzed.  "
   ]
  },
  {
   "cell_type": "markdown",
   "metadata": {},
   "source": [
    "## Timeperiod  \n",
    "The timespan to be analyzed reaches from __2018 to 2022__.  \n",
    "Single years must be selectable.  \n",
    "If data allows it, the granularity shall show month of a year.  \n",
    "The development over different years shall be shown and years shall be comparable to each other.  "
   ]
  },
  {
   "cell_type": "markdown",
   "metadata": {},
   "source": [
    "## Age  \n",
    "The following age groups shall be analized and shown:  \n",
    "- <14 years (children - kinder)  \n",
    "- from 14 to < 16 years (juveniles - jugendliche)  \n",
    "- from 16 years to < 18 years (juveniles - jugendliche)  \n",
    "- from 18 to < 21 years (adolescents - heranwachsende)  "
   ]
  },
  {
   "cell_type": "markdown",
   "metadata": {},
   "source": [
    "## Relevant Crimes \n",
    "The following groups of crimes shall be analyzed and tracked:  \n",
    "1. Homicide - Tötungen - ['010000', '020010'] (010000 Mord, 020010 Totschlag)  \n",
    "1. Assault - Körperverletzung ['220000'] (220000 Körperverletzung  )\n",
    "1. Sexual Offenses - Sexuelle Straftaten ['100000'] (100000 Straftaten gegen die sexuelle Selbstbestimmung insgesamt)  \n",
    "1. Deprivation of Liberty - Freiheitsberaubung ['232100']  \n",
    "1. Coercion - Nötigung ['232200', '232201', '232279']  \n",
    "1. Burglary - Einbruch ['435*00'] (Wohnungseinbruchdiebstahl)  \n",
    "1. Shoplifting - Ladendiebstahl ['*26*00']   \n",
    "1. Robbery - Raub ['21000']  \n",
    "1. Drug/Narcotics-related Crime - Rauschgiftkriminalität ['730000', '891100']  \n",
    "1. Damage to Property - Sachbeschädigung ['674000']\n",
    "\n",
    "1. Acts under influence of alcohol- Taten unter Alkoholeinfluss (No data available)  "
   ]
  },
  {
   "cell_type": "markdown",
   "metadata": {},
   "source": [
    "## Areas  \n",
    "The following areas shall be analyzed and shown/selectable:  \n",
    "- Germany as a whole  \n",
    "- The 16 federal States of Germany  \n",
    "- Selected Cities  \n",
    "\n",
    "The selected cities to be shown are:  \n",
    "- Berlin,  \n",
    "- Hamburg,  \n",
    "- München,  \n",
    "- Köln,  \n",
    "- Frankfurt,  \n",
    "- Stuttgart,  \n",
    "- Düsseldorf,  \n",
    "- Leipzig,  \n",
    "- Dortmund,  \n",
    "- Essen.  \n",
    "\n",
    "If there turn out to be other high crime areas, these shall also be shown in the dashboard."
   ]
  },
  {
   "cell_type": "markdown",
   "metadata": {},
   "source": [
    "## Other Specs  \n",
    "- The dashboard shall be simple, clear and easy to read.  \n",
    "- The dashboard must be accessable via internet for everybode, who has the link.  \n",
    "- The dashboard shall be password protected?  \n",
    "- The dashboard shall be dynamic with different kinds of controls (e.g. sliders, radio buttons, etc.) to adapt the shown statistics.  \n",
    "- The dashboard shall be in darkmode?  "
   ]
  }
 ],
 "metadata": {
  "language_info": {
   "name": "python"
  },
  "orig_nbformat": 4
 },
 "nbformat": 4,
 "nbformat_minor": 2
}
